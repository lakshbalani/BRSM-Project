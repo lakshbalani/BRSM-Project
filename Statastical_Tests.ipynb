{
 "cells": [
  {
   "cell_type": "code",
   "execution_count": 17,
   "metadata": {},
   "outputs": [
    {
     "name": "stdout",
     "output_type": "stream",
     "text": [
      "<class 'pandas.core.frame.DataFrame'>\n",
      "RangeIndex: 736 entries, 0 to 735\n",
      "Data columns (total 33 columns):\n",
      " #   Column                        Non-Null Count  Dtype  \n",
      "---  ------                        --------------  -----  \n",
      " 0   Timestamp                     736 non-null    object \n",
      " 1   Age                           735 non-null    float64\n",
      " 2   Primary streaming service     735 non-null    object \n",
      " 3   Hours per day                 736 non-null    float64\n",
      " 4   While working                 733 non-null    object \n",
      " 5   Instrumentalist               732 non-null    object \n",
      " 6   Composer                      735 non-null    object \n",
      " 7   Fav genre                     736 non-null    object \n",
      " 8   Exploratory                   736 non-null    object \n",
      " 9   Foreign languages             732 non-null    object \n",
      " 10  BPM                           629 non-null    float64\n",
      " 11  Frequency [Classical]         736 non-null    object \n",
      " 12  Frequency [Country]           736 non-null    object \n",
      " 13  Frequency [EDM]               736 non-null    object \n",
      " 14  Frequency [Folk]              736 non-null    object \n",
      " 15  Frequency [Gospel]            736 non-null    object \n",
      " 16  Frequency [Hip hop]           736 non-null    object \n",
      " 17  Frequency [Jazz]              736 non-null    object \n",
      " 18  Frequency [K pop]             736 non-null    object \n",
      " 19  Frequency [Latin]             736 non-null    object \n",
      " 20  Frequency [Lofi]              736 non-null    object \n",
      " 21  Frequency [Metal]             736 non-null    object \n",
      " 22  Frequency [Pop]               736 non-null    object \n",
      " 23  Frequency [R&B]               736 non-null    object \n",
      " 24  Frequency [Rap]               736 non-null    object \n",
      " 25  Frequency [Rock]              736 non-null    object \n",
      " 26  Frequency [Video game music]  736 non-null    object \n",
      " 27  Anxiety                       736 non-null    float64\n",
      " 28  Depression                    736 non-null    float64\n",
      " 29  Insomnia                      736 non-null    float64\n",
      " 30  OCD                           736 non-null    float64\n",
      " 31  Music effects                 728 non-null    object \n",
      " 32  Permissions                   736 non-null    object \n",
      "dtypes: float64(7), object(26)\n",
      "memory usage: 189.9+ KB\n"
     ]
    }
   ],
   "source": [
    "# IMport all the required libraries \n",
    "import pandas as pd\n",
    "import numpy as np\n",
    "\n",
    "# ignore warnings\n",
    "import warnings\n",
    "warnings.filterwarnings('ignore')\n",
    "\n",
    "# Read the data from the csv file\n",
    "df = pd.read_csv('MusicandMind_Dataset.csv')\n",
    "df.info()"
   ]
  },
  {
   "cell_type": "code",
   "execution_count": 18,
   "metadata": {},
   "outputs": [
    {
     "data": {
      "text/html": [
       "<div>\n",
       "<style scoped>\n",
       "    .dataframe tbody tr th:only-of-type {\n",
       "        vertical-align: middle;\n",
       "    }\n",
       "\n",
       "    .dataframe tbody tr th {\n",
       "        vertical-align: top;\n",
       "    }\n",
       "\n",
       "    .dataframe thead th {\n",
       "        text-align: right;\n",
       "    }\n",
       "</style>\n",
       "<table border=\"1\" class=\"dataframe\">\n",
       "  <thead>\n",
       "    <tr style=\"text-align: right;\">\n",
       "      <th></th>\n",
       "      <th>Timestamp</th>\n",
       "      <th>Age</th>\n",
       "      <th>Primary streaming service</th>\n",
       "      <th>Hours per day</th>\n",
       "      <th>While working</th>\n",
       "      <th>Instrumentalist</th>\n",
       "      <th>Composer</th>\n",
       "      <th>Fav genre</th>\n",
       "      <th>Exploratory</th>\n",
       "      <th>Foreign languages</th>\n",
       "      <th>...</th>\n",
       "      <th>Frequency [R&amp;B]</th>\n",
       "      <th>Frequency [Rap]</th>\n",
       "      <th>Frequency [Rock]</th>\n",
       "      <th>Frequency [Video game music]</th>\n",
       "      <th>Anxiety</th>\n",
       "      <th>Depression</th>\n",
       "      <th>Insomnia</th>\n",
       "      <th>OCD</th>\n",
       "      <th>Music effects</th>\n",
       "      <th>Permissions</th>\n",
       "    </tr>\n",
       "  </thead>\n",
       "  <tbody>\n",
       "    <tr>\n",
       "      <th>0</th>\n",
       "      <td>8/27/2022 19:29:02</td>\n",
       "      <td>18.0</td>\n",
       "      <td>Spotify</td>\n",
       "      <td>3.0</td>\n",
       "      <td>Yes</td>\n",
       "      <td>Yes</td>\n",
       "      <td>Yes</td>\n",
       "      <td>Latin</td>\n",
       "      <td>Yes</td>\n",
       "      <td>Yes</td>\n",
       "      <td>...</td>\n",
       "      <td>Sometimes</td>\n",
       "      <td>Very frequently</td>\n",
       "      <td>Never</td>\n",
       "      <td>Sometimes</td>\n",
       "      <td>3.0</td>\n",
       "      <td>0.0</td>\n",
       "      <td>1.0</td>\n",
       "      <td>0.0</td>\n",
       "      <td>NaN</td>\n",
       "      <td>I understand.</td>\n",
       "    </tr>\n",
       "    <tr>\n",
       "      <th>1</th>\n",
       "      <td>8/27/2022 19:57:31</td>\n",
       "      <td>63.0</td>\n",
       "      <td>Pandora</td>\n",
       "      <td>1.5</td>\n",
       "      <td>Yes</td>\n",
       "      <td>No</td>\n",
       "      <td>No</td>\n",
       "      <td>Rock</td>\n",
       "      <td>Yes</td>\n",
       "      <td>No</td>\n",
       "      <td>...</td>\n",
       "      <td>Sometimes</td>\n",
       "      <td>Rarely</td>\n",
       "      <td>Very frequently</td>\n",
       "      <td>Rarely</td>\n",
       "      <td>7.0</td>\n",
       "      <td>2.0</td>\n",
       "      <td>2.0</td>\n",
       "      <td>1.0</td>\n",
       "      <td>NaN</td>\n",
       "      <td>I understand.</td>\n",
       "    </tr>\n",
       "    <tr>\n",
       "      <th>2</th>\n",
       "      <td>8/27/2022 21:28:18</td>\n",
       "      <td>18.0</td>\n",
       "      <td>Spotify</td>\n",
       "      <td>4.0</td>\n",
       "      <td>No</td>\n",
       "      <td>No</td>\n",
       "      <td>No</td>\n",
       "      <td>Video game music</td>\n",
       "      <td>No</td>\n",
       "      <td>Yes</td>\n",
       "      <td>...</td>\n",
       "      <td>Never</td>\n",
       "      <td>Rarely</td>\n",
       "      <td>Rarely</td>\n",
       "      <td>Very frequently</td>\n",
       "      <td>7.0</td>\n",
       "      <td>7.0</td>\n",
       "      <td>10.0</td>\n",
       "      <td>2.0</td>\n",
       "      <td>No effect</td>\n",
       "      <td>I understand.</td>\n",
       "    </tr>\n",
       "    <tr>\n",
       "      <th>3</th>\n",
       "      <td>8/27/2022 21:40:40</td>\n",
       "      <td>61.0</td>\n",
       "      <td>YouTube Music</td>\n",
       "      <td>2.5</td>\n",
       "      <td>Yes</td>\n",
       "      <td>No</td>\n",
       "      <td>Yes</td>\n",
       "      <td>Jazz</td>\n",
       "      <td>Yes</td>\n",
       "      <td>Yes</td>\n",
       "      <td>...</td>\n",
       "      <td>Sometimes</td>\n",
       "      <td>Never</td>\n",
       "      <td>Never</td>\n",
       "      <td>Never</td>\n",
       "      <td>9.0</td>\n",
       "      <td>7.0</td>\n",
       "      <td>3.0</td>\n",
       "      <td>3.0</td>\n",
       "      <td>Improve</td>\n",
       "      <td>I understand.</td>\n",
       "    </tr>\n",
       "    <tr>\n",
       "      <th>4</th>\n",
       "      <td>8/27/2022 21:54:47</td>\n",
       "      <td>18.0</td>\n",
       "      <td>Spotify</td>\n",
       "      <td>4.0</td>\n",
       "      <td>Yes</td>\n",
       "      <td>No</td>\n",
       "      <td>No</td>\n",
       "      <td>R&amp;B</td>\n",
       "      <td>Yes</td>\n",
       "      <td>No</td>\n",
       "      <td>...</td>\n",
       "      <td>Very frequently</td>\n",
       "      <td>Very frequently</td>\n",
       "      <td>Never</td>\n",
       "      <td>Rarely</td>\n",
       "      <td>7.0</td>\n",
       "      <td>2.0</td>\n",
       "      <td>5.0</td>\n",
       "      <td>9.0</td>\n",
       "      <td>Improve</td>\n",
       "      <td>I understand.</td>\n",
       "    </tr>\n",
       "  </tbody>\n",
       "</table>\n",
       "<p>5 rows × 33 columns</p>\n",
       "</div>"
      ],
      "text/plain": [
       "            Timestamp   Age Primary streaming service  Hours per day  \\\n",
       "0  8/27/2022 19:29:02  18.0                   Spotify            3.0   \n",
       "1  8/27/2022 19:57:31  63.0                   Pandora            1.5   \n",
       "2  8/27/2022 21:28:18  18.0                   Spotify            4.0   \n",
       "3  8/27/2022 21:40:40  61.0             YouTube Music            2.5   \n",
       "4  8/27/2022 21:54:47  18.0                   Spotify            4.0   \n",
       "\n",
       "  While working Instrumentalist Composer         Fav genre Exploratory  \\\n",
       "0           Yes             Yes      Yes             Latin         Yes   \n",
       "1           Yes              No       No              Rock         Yes   \n",
       "2            No              No       No  Video game music          No   \n",
       "3           Yes              No      Yes              Jazz         Yes   \n",
       "4           Yes              No       No               R&B         Yes   \n",
       "\n",
       "  Foreign languages  ...  Frequency [R&B]  Frequency [Rap] Frequency [Rock]  \\\n",
       "0               Yes  ...        Sometimes  Very frequently            Never   \n",
       "1                No  ...        Sometimes           Rarely  Very frequently   \n",
       "2               Yes  ...            Never           Rarely           Rarely   \n",
       "3               Yes  ...        Sometimes            Never            Never   \n",
       "4                No  ...  Very frequently  Very frequently            Never   \n",
       "\n",
       "  Frequency [Video game music] Anxiety Depression Insomnia  OCD Music effects  \\\n",
       "0                    Sometimes     3.0        0.0      1.0  0.0           NaN   \n",
       "1                       Rarely     7.0        2.0      2.0  1.0           NaN   \n",
       "2              Very frequently     7.0        7.0     10.0  2.0     No effect   \n",
       "3                        Never     9.0        7.0      3.0  3.0       Improve   \n",
       "4                       Rarely     7.0        2.0      5.0  9.0       Improve   \n",
       "\n",
       "     Permissions  \n",
       "0  I understand.  \n",
       "1  I understand.  \n",
       "2  I understand.  \n",
       "3  I understand.  \n",
       "4  I understand.  \n",
       "\n",
       "[5 rows x 33 columns]"
      ]
     },
     "execution_count": 18,
     "metadata": {},
     "output_type": "execute_result"
    }
   ],
   "source": [
    "\n",
    "df.head()"
   ]
  },
  {
   "cell_type": "code",
   "execution_count": 19,
   "metadata": {},
   "outputs": [
    {
     "data": {
      "text/html": [
       "<div>\n",
       "<style scoped>\n",
       "    .dataframe tbody tr th:only-of-type {\n",
       "        vertical-align: middle;\n",
       "    }\n",
       "\n",
       "    .dataframe tbody tr th {\n",
       "        vertical-align: top;\n",
       "    }\n",
       "\n",
       "    .dataframe thead th {\n",
       "        text-align: right;\n",
       "    }\n",
       "</style>\n",
       "<table border=\"1\" class=\"dataframe\">\n",
       "  <thead>\n",
       "    <tr style=\"text-align: right;\">\n",
       "      <th></th>\n",
       "      <th>Age</th>\n",
       "      <th>Hours per day</th>\n",
       "      <th>BPM</th>\n",
       "      <th>Anxiety</th>\n",
       "      <th>Depression</th>\n",
       "      <th>Insomnia</th>\n",
       "      <th>OCD</th>\n",
       "    </tr>\n",
       "  </thead>\n",
       "  <tbody>\n",
       "    <tr>\n",
       "      <th>count</th>\n",
       "      <td>735.000000</td>\n",
       "      <td>736.000000</td>\n",
       "      <td>6.290000e+02</td>\n",
       "      <td>736.000000</td>\n",
       "      <td>736.000000</td>\n",
       "      <td>736.000000</td>\n",
       "      <td>736.000000</td>\n",
       "    </tr>\n",
       "    <tr>\n",
       "      <th>mean</th>\n",
       "      <td>25.206803</td>\n",
       "      <td>3.572758</td>\n",
       "      <td>1.589948e+06</td>\n",
       "      <td>5.837636</td>\n",
       "      <td>4.796196</td>\n",
       "      <td>3.738451</td>\n",
       "      <td>2.637228</td>\n",
       "    </tr>\n",
       "    <tr>\n",
       "      <th>std</th>\n",
       "      <td>12.054970</td>\n",
       "      <td>3.028199</td>\n",
       "      <td>3.987261e+07</td>\n",
       "      <td>2.793054</td>\n",
       "      <td>3.028870</td>\n",
       "      <td>3.088689</td>\n",
       "      <td>2.842017</td>\n",
       "    </tr>\n",
       "    <tr>\n",
       "      <th>min</th>\n",
       "      <td>10.000000</td>\n",
       "      <td>0.000000</td>\n",
       "      <td>0.000000e+00</td>\n",
       "      <td>0.000000</td>\n",
       "      <td>0.000000</td>\n",
       "      <td>0.000000</td>\n",
       "      <td>0.000000</td>\n",
       "    </tr>\n",
       "    <tr>\n",
       "      <th>25%</th>\n",
       "      <td>18.000000</td>\n",
       "      <td>2.000000</td>\n",
       "      <td>1.000000e+02</td>\n",
       "      <td>4.000000</td>\n",
       "      <td>2.000000</td>\n",
       "      <td>1.000000</td>\n",
       "      <td>0.000000</td>\n",
       "    </tr>\n",
       "    <tr>\n",
       "      <th>50%</th>\n",
       "      <td>21.000000</td>\n",
       "      <td>3.000000</td>\n",
       "      <td>1.200000e+02</td>\n",
       "      <td>6.000000</td>\n",
       "      <td>5.000000</td>\n",
       "      <td>3.000000</td>\n",
       "      <td>2.000000</td>\n",
       "    </tr>\n",
       "    <tr>\n",
       "      <th>75%</th>\n",
       "      <td>28.000000</td>\n",
       "      <td>5.000000</td>\n",
       "      <td>1.440000e+02</td>\n",
       "      <td>8.000000</td>\n",
       "      <td>7.000000</td>\n",
       "      <td>6.000000</td>\n",
       "      <td>5.000000</td>\n",
       "    </tr>\n",
       "    <tr>\n",
       "      <th>max</th>\n",
       "      <td>89.000000</td>\n",
       "      <td>24.000000</td>\n",
       "      <td>1.000000e+09</td>\n",
       "      <td>10.000000</td>\n",
       "      <td>10.000000</td>\n",
       "      <td>10.000000</td>\n",
       "      <td>10.000000</td>\n",
       "    </tr>\n",
       "  </tbody>\n",
       "</table>\n",
       "</div>"
      ],
      "text/plain": [
       "              Age  Hours per day           BPM     Anxiety  Depression  \\\n",
       "count  735.000000     736.000000  6.290000e+02  736.000000  736.000000   \n",
       "mean    25.206803       3.572758  1.589948e+06    5.837636    4.796196   \n",
       "std     12.054970       3.028199  3.987261e+07    2.793054    3.028870   \n",
       "min     10.000000       0.000000  0.000000e+00    0.000000    0.000000   \n",
       "25%     18.000000       2.000000  1.000000e+02    4.000000    2.000000   \n",
       "50%     21.000000       3.000000  1.200000e+02    6.000000    5.000000   \n",
       "75%     28.000000       5.000000  1.440000e+02    8.000000    7.000000   \n",
       "max     89.000000      24.000000  1.000000e+09   10.000000   10.000000   \n",
       "\n",
       "         Insomnia         OCD  \n",
       "count  736.000000  736.000000  \n",
       "mean     3.738451    2.637228  \n",
       "std      3.088689    2.842017  \n",
       "min      0.000000    0.000000  \n",
       "25%      1.000000    0.000000  \n",
       "50%      3.000000    2.000000  \n",
       "75%      6.000000    5.000000  \n",
       "max     10.000000   10.000000  "
      ]
     },
     "execution_count": 19,
     "metadata": {},
     "output_type": "execute_result"
    }
   ],
   "source": [
    "df.describe()"
   ]
  },
  {
   "cell_type": "code",
   "execution_count": 20,
   "metadata": {},
   "outputs": [
    {
     "name": "stdout",
     "output_type": "stream",
     "text": [
      "<class 'pandas.core.frame.DataFrame'>\n",
      "Index: 616 entries, 2 to 735\n",
      "Data columns (total 33 columns):\n",
      " #   Column                        Non-Null Count  Dtype  \n",
      "---  ------                        --------------  -----  \n",
      " 0   Timestamp                     616 non-null    object \n",
      " 1   Age                           616 non-null    float64\n",
      " 2   Primary streaming service     616 non-null    object \n",
      " 3   Hours per day                 616 non-null    float64\n",
      " 4   While working                 616 non-null    object \n",
      " 5   Instrumentalist               616 non-null    object \n",
      " 6   Composer                      616 non-null    object \n",
      " 7   Fav genre                     616 non-null    object \n",
      " 8   Exploratory                   616 non-null    object \n",
      " 9   Foreign languages             616 non-null    object \n",
      " 10  BPM                           616 non-null    float64\n",
      " 11  Frequency [Classical]         616 non-null    object \n",
      " 12  Frequency [Country]           616 non-null    object \n",
      " 13  Frequency [EDM]               616 non-null    object \n",
      " 14  Frequency [Folk]              616 non-null    object \n",
      " 15  Frequency [Gospel]            616 non-null    object \n",
      " 16  Frequency [Hip hop]           616 non-null    object \n",
      " 17  Frequency [Jazz]              616 non-null    object \n",
      " 18  Frequency [K pop]             616 non-null    object \n",
      " 19  Frequency [Latin]             616 non-null    object \n",
      " 20  Frequency [Lofi]              616 non-null    object \n",
      " 21  Frequency [Metal]             616 non-null    object \n",
      " 22  Frequency [Pop]               616 non-null    object \n",
      " 23  Frequency [R&B]               616 non-null    object \n",
      " 24  Frequency [Rap]               616 non-null    object \n",
      " 25  Frequency [Rock]              616 non-null    object \n",
      " 26  Frequency [Video game music]  616 non-null    object \n",
      " 27  Anxiety                       616 non-null    float64\n",
      " 28  Depression                    616 non-null    float64\n",
      " 29  Insomnia                      616 non-null    float64\n",
      " 30  OCD                           616 non-null    float64\n",
      " 31  Music effects                 616 non-null    object \n",
      " 32  Permissions                   616 non-null    object \n",
      "dtypes: float64(7), object(26)\n",
      "memory usage: 163.6+ KB\n"
     ]
    }
   ],
   "source": [
    "# remove rows with nan values or null values\n",
    "df = df.dropna()\n",
    "df.info()"
   ]
  },
  {
   "cell_type": "code",
   "execution_count": 21,
   "metadata": {},
   "outputs": [
    {
     "name": "stdout",
     "output_type": "stream",
     "text": [
      "(616, 33)\n",
      "Index(['Timestamp', 'Age', 'Primary streaming service', 'Hours per day',\n",
      "       'While working', 'Instrumentalist', 'Composer', 'Fav genre',\n",
      "       'Exploratory', 'Foreign languages', 'BPM', 'Frequency [Classical]',\n",
      "       'Frequency [Country]', 'Frequency [EDM]', 'Frequency [Folk]',\n",
      "       'Frequency [Gospel]', 'Frequency [Hip hop]', 'Frequency [Jazz]',\n",
      "       'Frequency [K pop]', 'Frequency [Latin]', 'Frequency [Lofi]',\n",
      "       'Frequency [Metal]', 'Frequency [Pop]', 'Frequency [R&B]',\n",
      "       'Frequency [Rap]', 'Frequency [Rock]', 'Frequency [Video game music]',\n",
      "       'Anxiety', 'Depression', 'Insomnia', 'OCD', 'Music effects',\n",
      "       'Permissions'],\n",
      "      dtype='object')\n"
     ]
    }
   ],
   "source": [
    "# Print size of the data\n",
    "print(df.shape)\n",
    "# Print column names\n",
    "print(df.columns)"
   ]
  },
  {
   "attachments": {},
   "cell_type": "markdown",
   "metadata": {},
   "source": [
    "To test this hypothesis, we can perform t-tests between the mental health variables (Anxiety, Depression, Insomnia, and OCD) and the Music effects variable. The null hypothesis is that there is no difference in mean mental health scores between those who feel that music affects their mental health and those who don't. The alternative hypothesis is that there is a difference in mean mental health scores between the two groups.\n",
    "\n"
   ]
  },
  {
   "cell_type": "code",
   "execution_count": 22,
   "metadata": {},
   "outputs": [
    {
     "name": "stdout",
     "output_type": "stream",
     "text": [
      "Anxiety: t = 4.399, p = 0.000\n",
      "Depression: t = 1.736, p = 0.083\n",
      "Insomnia: t = 0.303, p = 0.762\n",
      "OCD: t = 1.990, p = 0.047\n"
     ]
    }
   ],
   "source": [
    "\n",
    "from scipy.stats import ttest_ind\n",
    "\n",
    "# Create two groups based on the Music effects variable\n",
    "music_effect_yes = df[df['Music effects'] == 'Improve']\n",
    "music_effect_no = df[df['Music effects'] == 'No effect']\n",
    "\n",
    "# Perform t-tests between the mental health variables and the Music effects variable\n",
    "for mental_health_var in ['Anxiety', 'Depression', 'Insomnia', 'OCD']:\n",
    "    t, p = ttest_ind(music_effect_yes[mental_health_var], music_effect_no[mental_health_var])\n",
    "    print(f\"{mental_health_var}: t = {t:.3f}, p = {p:.3f}\")\n"
   ]
  },
  {
   "attachments": {},
   "cell_type": "markdown",
   "metadata": {},
   "source": [
    "The p-values for the tests of Anxiety and OCD are less than 0.05, which suggests that there is a statistically significant difference in mean mental health scores (Anxiety and OCD) between those who feel that music affects their mental health and those who don't.\n",
    "\n",
    "If the p-values for depression and insomnia are greater than 0.05, it suggests that there is not a statistically significant difference in mean mental health scores (depression and insomnia) between those who feel that music affects their mental health and those who don't.\n",
    "\n",
    "In statistical hypothesis testing, the p-value represents the probability of observing a test statistic (such as a difference in mean mental health scores) as extreme as or more extreme than the one observed, assuming that the null hypothesis is true. The null hypothesis in this case is that there is no difference in mean mental health scores between those who feel that music affects their mental health and those who don't."
   ]
  },
  {
   "cell_type": "code",
   "execution_count": 23,
   "metadata": {},
   "outputs": [
    {
     "name": "stdout",
     "output_type": "stream",
     "text": [
      "F-value = 0.667, p-value = 0.572\n"
     ]
    }
   ],
   "source": [
    "from scipy.stats import f_oneway\n",
    "\n",
    "# Create age groups based on quartiles\n",
    "df['Age group'] = pd.qcut(df['Age'], q=[0, 0.25, 0.5, 0.75, 1], labels=['Q1', 'Q2', 'Q3', 'Q4'])\n",
    "\n",
    "# Perform ANOVA between the BPM variable and the Age group variable\n",
    "f, p = f_oneway(df[df['Age group'] == 'Q1']['BPM'],\n",
    "                df[df['Age group'] == 'Q2']['BPM'],\n",
    "                df[df['Age group'] == 'Q3']['BPM'],\n",
    "                df[df['Age group'] == 'Q4']['BPM'])\n",
    "print(f\"F-value = {f:.3f}, p-value = {p:.3f}\")"
   ]
  },
  {
   "attachments": {},
   "cell_type": "markdown",
   "metadata": {},
   "source": [
    "The p-value is greater than 0.05, which suggests that there is no statistically significant difference in mean BPM scores between different age groups."
   ]
  },
  {
   "cell_type": "code",
   "execution_count": 24,
   "metadata": {},
   "outputs": [
    {
     "name": "stdout",
     "output_type": "stream",
     "text": [
      "[0 2 1 3]\n"
     ]
    }
   ],
   "source": [
    "# Create a dictionary to map frequency levels to numerical values\n",
    "freq_map = {'Never': 0, 'Rarely': 1, 'Sometimes': 2, 'Very frequently': 3}\n",
    "\n",
    "#  Frequency [Classical]         736 non-null    object \n",
    "#  12  Frequency [Country]           736 non-null    object \n",
    "#  13  Frequency [EDM]               736 non-null    object \n",
    "#  14  Frequency [Folk]              736 non-null    object \n",
    "#  15  Frequency [Gospel]            736 non-null    object \n",
    "#  16  Frequency [Hip hop]           736 non-null    object \n",
    "#  17  Frequency [Jazz]              736 non-null    object \n",
    "#  18  Frequency [K pop]             736 non-null    object \n",
    "#  19  Frequency [Latin]       \n",
    "\n",
    "# Convert the `Frequency columns` to numerical values\n",
    "df['Frequency [Classical]'] = df['Frequency [Classical]'].map(freq_map)\n",
    "df['Frequency [Country]'] = df['Frequency [Country]'].map(freq_map)\n",
    "df['Frequency [EDM]'] = df['Frequency [EDM]'].map(freq_map)\n",
    "df['Frequency [Folk]'] = df['Frequency [Folk]'].map(freq_map)\n",
    "df['Frequency [Gospel]'] = df['Frequency [Gospel]'].map(freq_map)\n",
    "df['Frequency [Hip hop]'] = df['Frequency [Hip hop]'].map(freq_map)\n",
    "df['Frequency [Jazz]'] = df['Frequency [Jazz]'].map(freq_map)\n",
    "df['Frequency [K pop]'] = df['Frequency [K pop]'].map(freq_map)\n",
    "df['Frequency [Latin]'] = df['Frequency [Latin]'].map(freq_map)\n",
    "\n",
    "# Print all the unique values of the Frequency [CLassical] variable\n",
    "print(df['Frequency [Classical]'].unique())"
   ]
  },
  {
   "cell_type": "code",
   "execution_count": 25,
   "metadata": {},
   "outputs": [
    {
     "name": "stdout",
     "output_type": "stream",
     "text": [
      "Anxiety: classical t = -0.104, p = 0.917, hiphop t = 0.281, p = 0.779\n",
      "Depression: classical t = 0.813, p = 0.416, hiphop t = 2.255, p = 0.025\n",
      "Insomnia: classical t = 2.070, p = 0.039, hiphop t = -0.752, p = 0.452\n",
      "OCD: classical t = 0.131, p = 0.895, hiphop t = 0.147, p = 0.883\n"
     ]
    }
   ],
   "source": [
    "# Create two groups for each genre based on the Frequency variable\n",
    "classical_yes = df[df['Frequency [Classical]'] >= 2]\n",
    "classical_no = df[df['Frequency [Classical]'] < 2]\n",
    "hiphop_yes = df[df['Frequency [Hip hop]'] >= 2]\n",
    "hiphop_no = df[df['Frequency [Hip hop]'] < 2]\n",
    "\n",
    "# Perform t-tests between the mental health variables and the two genre groups\n",
    "for mental_health_var in ['Anxiety', 'Depression', 'Insomnia', 'OCD']:\n",
    "    t1, p1 = ttest_ind(classical_yes[mental_health_var], classical_no[mental_health_var])\n",
    "    t2, p2 = ttest_ind(hiphop_yes[mental_health_var], hiphop_no[mental_health_var])\n",
    "    print(f\"{mental_health_var}: classical t = {t1:.3f}, p = {p1:.3f}, hiphop t = {t2:.3f}, p = {p2:.3f}\")"
   ]
  },
  {
   "attachments": {},
   "cell_type": "markdown",
   "metadata": {},
   "source": [
    "```\n",
    "From the results of the t-tests, we can infer the following:\n",
    "\n",
    "For Anxiety and OCD, neither classical nor hiphop music genres have a statistically significant difference in mean mental health scores between those who listen to them and those who don't. This suggests that these genres of music may not have a significant effect on anxiety and OCD.\n",
    "\n",
    "For Depression, there is a statistically significant difference in mean mental health scores between those who listen to hiphop music and those who don't. This suggests that hiphop music may have a significant effect on depression.\n",
    "\n",
    "For Insomnia, there is a statistically significant difference in mean mental health scores between those who listen to classical music and those who don't. This suggests that classical music may have a significant effect on insomnia.\n",
    "\n",
    "For all mental health conditions, the p-values for both classical and hiphop genres are greater than 0.05, except for depression, which suggests that the effect of music genres on mental health may not be significant for most conditions. However, this is just a preliminary analysis and further investigation is necessary to draw a conclusive inference.\n",
    "```"
   ]
  },
  {
   "cell_type": "code",
   "execution_count": 26,
   "metadata": {},
   "outputs": [
    {
     "name": "stdout",
     "output_type": "stream",
     "text": [
      "r = -0.045, p = 0.266\n"
     ]
    }
   ],
   "source": [
    "# Does age affect the number of hours spent listening to music per day?\n",
    "# We can perform a correlation test between the Age and Hours per day variables to see if there is a linear relationship between the two.\n",
    "\n",
    "from scipy.stats import pearsonr\n",
    "\n",
    "r, p = pearsonr(df['Age'], df['Hours per day'])\n",
    "print(f\"r = {r:.3f}, p = {p:.3f}\")"
   ]
  },
  {
   "attachments": {},
   "cell_type": "markdown",
   "metadata": {},
   "source": [
    "The correlation coefficient r is close to zero, which suggests that there is no linear relationship between age and hours spent listening to music per day. The p-value is greater than 0.05, which supports this conclusion."
   ]
  },
  {
   "cell_type": "code",
   "execution_count": 27,
   "metadata": {},
   "outputs": [
    {
     "name": "stdout",
     "output_type": "stream",
     "text": [
      "Anxiety: t = 0.810, p = 0.418\n",
      "Depression: t = 1.290, p = 0.197\n",
      "Insomnia: t = 0.945, p = 0.345\n",
      "OCD: t = 2.370, p = 0.018\n"
     ]
    }
   ],
   "source": [
    "# Create two groups based on the While working variable\n",
    "while_listening = df[df['While working'] == 'Yes']\n",
    "not_while_listening = df[df['While working'] == 'No']\n",
    "\n",
    "# Perform t-tests between the mental health variables and the two groups\n",
    "for mental_health_var in ['Anxiety', 'Depression', 'Insomnia', 'OCD']:\n",
    "    t, p = ttest_ind(while_listening[mental_health_var], not_while_listening[mental_health_var])\n",
    "    print(f\"{mental_health_var}: t = {t:.3f}, p = {p:.3f}\")"
   ]
  },
  {
   "attachments": {},
   "cell_type": "markdown",
   "metadata": {},
   "source": [
    "From the results of the t-tests, we can infer the following:\n",
    "\n",
    "For Anxiety, Depression, and Insomnia, there is no statistically significant difference in mean mental health scores between those who listen to music while working and those who don't. This suggests that listening to music while working may not have a significant effect on these mental health conditions.\n",
    "For OCD, there is a statistically significant difference in mean mental health scores between those who listen to music while working and those who don't. This suggests that listening to music while working may have a significant effect on OCD."
   ]
  },
  {
   "cell_type": "code",
   "execution_count": 28,
   "metadata": {},
   "outputs": [
    {
     "name": "stdout",
     "output_type": "stream",
     "text": [
      "Anxiety: r = 0.037, p = 0.360\n",
      "Depression: r = 0.086, p = 0.034\n",
      "Insomnia: r = 0.119, p = 0.003\n",
      "OCD: r = 0.108, p = 0.007\n"
     ]
    }
   ],
   "source": [
    "for mental_health_var in ['Anxiety', 'Depression', 'Insomnia', 'OCD']:\n",
    "    r, p = pearsonr(df['Hours per day'], df[mental_health_var])\n",
    "    print(f\"{mental_health_var}: r = {r:.3f}, p = {p:.3f}\")"
   ]
  },
  {
   "attachments": {},
   "cell_type": "markdown",
   "metadata": {},
   "source": [
    "The results show that there is a positive correlation between depression, insomnia, OCD, and the number of hours per day spent listening to music. The p-values suggest that the correlation for depression is statistically significant at the 0.05 level, while the correlations for insomnia and OCD are significant at the 0.01 level. However, the correlation for anxiety is not significant, as the p-value is greater than 0.05."
   ]
  },
  {
   "cell_type": "code",
   "execution_count": 29,
   "metadata": {},
   "outputs": [
    {
     "name": "stdout",
     "output_type": "stream",
     "text": [
      "Chi-square statistic: 52.277044975634105\n",
      "p-value: 5.082674248359472e-06\n"
     ]
    }
   ],
   "source": [
    "from scipy.stats import chi2_contingency\n",
    "\n",
    "# create a contingency table\n",
    "contingency_table = pd.crosstab(df['Foreign languages'], df['Fav genre'])\n",
    "\n",
    "# perform chi-square test\n",
    "chi2, p, dof, expected = chi2_contingency(contingency_table)\n",
    "print(\"Chi-square statistic:\", chi2)\n",
    "print(\"p-value:\", p)"
   ]
  },
  {
   "attachments": {},
   "cell_type": "markdown",
   "metadata": {},
   "source": [
    "Based on the p-value of 5.082674248359472e-06, which is less than 0.05, we can conclude that there is a statistically significant difference in the favorite genre between those who have foreign language proficiency and those who don't. In other words, foreign language proficiency and favorite genre are not independent of each other. We can reject the null hypothesis that there is no association between the two variables."
   ]
  },
  {
   "cell_type": "code",
   "execution_count": 30,
   "metadata": {},
   "outputs": [
    {
     "name": "stdout",
     "output_type": "stream",
     "text": [
      "One-way ANOVA results:\n",
      "F-statistic: 1.0760665478480167\n",
      "p-value: 0.3754717600024724\n"
     ]
    }
   ],
   "source": [
    "from scipy.stats import f_oneway\n",
    "\n",
    "# Load data\n",
    "df = pd.read_csv('MusicandMind_Dataset.csv')\n",
    "df_original = df.copy()\n",
    "# Drop rows with missing values\n",
    "df = df.dropna()\n",
    "\n",
    "# Perform ANOVA on 'BPM' column based on 'Fav genre'\n",
    "genre_groups = [df[df['Fav genre'] == genre]['BPM'] for genre in df['Fav genre'].unique()]\n",
    "f_stat, p_val = f_oneway(*genre_groups)\n",
    "\n",
    "# Print results\n",
    "print(\"One-way ANOVA results:\")\n",
    "print(\"F-statistic:\", f_stat)\n",
    "print(\"p-value:\", p_val)\n"
   ]
  },
  {
   "cell_type": "code",
   "execution_count": 31,
   "metadata": {},
   "outputs": [
    {
     "data": {
      "text/html": [
       "<div>\n",
       "<style scoped>\n",
       "    .dataframe tbody tr th:only-of-type {\n",
       "        vertical-align: middle;\n",
       "    }\n",
       "\n",
       "    .dataframe tbody tr th {\n",
       "        vertical-align: top;\n",
       "    }\n",
       "\n",
       "    .dataframe thead th {\n",
       "        text-align: right;\n",
       "    }\n",
       "</style>\n",
       "<table border=\"1\" class=\"dataframe\">\n",
       "  <thead>\n",
       "    <tr style=\"text-align: right;\">\n",
       "      <th></th>\n",
       "      <th>Source</th>\n",
       "      <th>ddof1</th>\n",
       "      <th>ddof2</th>\n",
       "      <th>F</th>\n",
       "      <th>p-unc</th>\n",
       "      <th>np2</th>\n",
       "    </tr>\n",
       "  </thead>\n",
       "  <tbody>\n",
       "    <tr>\n",
       "      <th>0</th>\n",
       "      <td>Fav genre</td>\n",
       "      <td>15</td>\n",
       "      <td>600</td>\n",
       "      <td>1.837074</td>\n",
       "      <td>0.026901</td>\n",
       "      <td>0.04391</td>\n",
       "    </tr>\n",
       "  </tbody>\n",
       "</table>\n",
       "</div>"
      ],
      "text/plain": [
       "      Source  ddof1  ddof2         F     p-unc      np2\n",
       "0  Fav genre     15    600  1.837074  0.026901  0.04391"
      ]
     },
     "execution_count": 31,
     "metadata": {},
     "output_type": "execute_result"
    }
   ],
   "source": [
    "import pingouin as pg\n",
    "\n",
    "pg.anova(data=df, dv='Depression', between='Fav genre')\n"
   ]
  },
  {
   "attachments": {},
   "cell_type": "markdown",
   "metadata": {},
   "source": [
    "The F statistic and p-value turn out to be equal to 4.625 and 0.016336498 respectively. Since the p-value is less than 0.05 hence we would reject the null hypothesis. This implies that there is sufficient proof to say that there is a difference in the mean of the depression scores of people who listen to music and those who don't."
   ]
  },
  {
   "attachments": {},
   "cell_type": "markdown",
   "metadata": {},
   "source": [
    "\n",
    "An appropriate statistical test would be <b> a non-parametric test such as the Wilcoxon rank-sum test </b> or the Mann-Whitney U test. These tests do not rely on the assumption of independence and identical distribution and are suitable for analyzing non-paired data."
   ]
  },
  {
   "attachments": {},
   "cell_type": "markdown",
   "metadata": {},
   "source": [
    "### Wilcoxon Ranksum Test"
   ]
  },
  {
   "cell_type": "code",
   "execution_count": 34,
   "metadata": {},
   "outputs": [
    {
     "name": "stdout",
     "output_type": "stream",
     "text": [
      "Wilcoxon rank-sum test statistic: -1.876258294212288\n",
      "Wilcoxon rank-sum test p-value: 0.06061982087562245\n"
     ]
    }
   ],
   "source": [
    "# apply wilcoxon signed rank test on music effects column\n",
    "from scipy.stats import ranksums\n",
    "# make 2 groups of data\n",
    "# print(df.head())\n",
    "no_effect = df[df['Music effects'] == 'No']['Hours per day']\n",
    "improve = df[df['Music effects'] == 'Yes']['Hours per day']\n",
    "# print(no_effect.head())\n",
    "# print(improve.head())\n",
    "stat, p_val = ranksums(no_effect, improve)\n",
    "\n",
    "# Print the test statistic and p-value\n",
    "print(\"Wilcoxon rank-sum test statistic:\", stat)\n",
    "print(\"Wilcoxon rank-sum test p-value:\", p_val)"
   ]
  },
  {
   "attachments": {},
   "cell_type": "markdown",
   "metadata": {},
   "source": [
    "In your case, the Wilcoxon rank-sum test statistic is -1.876 and the p-value is 0.061, which suggests that there is some evidence to reject the null hypothesis that the two groups are equal."
   ]
  },
  {
   "cell_type": "code",
   "execution_count": 35,
   "metadata": {},
   "outputs": [
    {
     "data": {
      "text/html": [
       "<div>\n",
       "<style scoped>\n",
       "    .dataframe tbody tr th:only-of-type {\n",
       "        vertical-align: middle;\n",
       "    }\n",
       "\n",
       "    .dataframe tbody tr th {\n",
       "        vertical-align: top;\n",
       "    }\n",
       "\n",
       "    .dataframe thead th {\n",
       "        text-align: right;\n",
       "    }\n",
       "</style>\n",
       "<table border=\"1\" class=\"dataframe\">\n",
       "  <thead>\n",
       "    <tr style=\"text-align: right;\">\n",
       "      <th></th>\n",
       "      <th>Age</th>\n",
       "      <th>Primary streaming service</th>\n",
       "      <th>Hours per day</th>\n",
       "      <th>While working</th>\n",
       "      <th>Instrumentalist</th>\n",
       "      <th>Composer</th>\n",
       "      <th>Fav genre</th>\n",
       "      <th>Exploratory</th>\n",
       "      <th>Foreign languages</th>\n",
       "      <th>BPM</th>\n",
       "      <th>...</th>\n",
       "      <th>Frequency [R&amp;B]</th>\n",
       "      <th>Frequency [Rap]</th>\n",
       "      <th>Frequency [Rock]</th>\n",
       "      <th>Frequency [Video game music]</th>\n",
       "      <th>Anxiety</th>\n",
       "      <th>Depression</th>\n",
       "      <th>Insomnia</th>\n",
       "      <th>OCD</th>\n",
       "      <th>Music effects</th>\n",
       "      <th>Permissions</th>\n",
       "    </tr>\n",
       "  </thead>\n",
       "  <tbody>\n",
       "    <tr>\n",
       "      <th>2</th>\n",
       "      <td>18.0</td>\n",
       "      <td>Spotify</td>\n",
       "      <td>4.0</td>\n",
       "      <td>No</td>\n",
       "      <td>No</td>\n",
       "      <td>No</td>\n",
       "      <td>Video game music</td>\n",
       "      <td>No</td>\n",
       "      <td>Yes</td>\n",
       "      <td>132.0</td>\n",
       "      <td>...</td>\n",
       "      <td>Never</td>\n",
       "      <td>Rarely</td>\n",
       "      <td>Rarely</td>\n",
       "      <td>Very frequently</td>\n",
       "      <td>7.0</td>\n",
       "      <td>7.0</td>\n",
       "      <td>10.0</td>\n",
       "      <td>2.0</td>\n",
       "      <td>0</td>\n",
       "      <td>I understand.</td>\n",
       "    </tr>\n",
       "    <tr>\n",
       "      <th>3</th>\n",
       "      <td>61.0</td>\n",
       "      <td>YouTube Music</td>\n",
       "      <td>2.5</td>\n",
       "      <td>Yes</td>\n",
       "      <td>No</td>\n",
       "      <td>Yes</td>\n",
       "      <td>Jazz</td>\n",
       "      <td>Yes</td>\n",
       "      <td>Yes</td>\n",
       "      <td>84.0</td>\n",
       "      <td>...</td>\n",
       "      <td>Sometimes</td>\n",
       "      <td>Never</td>\n",
       "      <td>Never</td>\n",
       "      <td>Never</td>\n",
       "      <td>9.0</td>\n",
       "      <td>7.0</td>\n",
       "      <td>3.0</td>\n",
       "      <td>3.0</td>\n",
       "      <td>1</td>\n",
       "      <td>I understand.</td>\n",
       "    </tr>\n",
       "    <tr>\n",
       "      <th>4</th>\n",
       "      <td>18.0</td>\n",
       "      <td>Spotify</td>\n",
       "      <td>4.0</td>\n",
       "      <td>Yes</td>\n",
       "      <td>No</td>\n",
       "      <td>No</td>\n",
       "      <td>R&amp;B</td>\n",
       "      <td>Yes</td>\n",
       "      <td>No</td>\n",
       "      <td>107.0</td>\n",
       "      <td>...</td>\n",
       "      <td>Very frequently</td>\n",
       "      <td>Very frequently</td>\n",
       "      <td>Never</td>\n",
       "      <td>Rarely</td>\n",
       "      <td>7.0</td>\n",
       "      <td>2.0</td>\n",
       "      <td>5.0</td>\n",
       "      <td>9.0</td>\n",
       "      <td>1</td>\n",
       "      <td>I understand.</td>\n",
       "    </tr>\n",
       "    <tr>\n",
       "      <th>5</th>\n",
       "      <td>18.0</td>\n",
       "      <td>Spotify</td>\n",
       "      <td>5.0</td>\n",
       "      <td>Yes</td>\n",
       "      <td>Yes</td>\n",
       "      <td>Yes</td>\n",
       "      <td>Jazz</td>\n",
       "      <td>Yes</td>\n",
       "      <td>Yes</td>\n",
       "      <td>86.0</td>\n",
       "      <td>...</td>\n",
       "      <td>Very frequently</td>\n",
       "      <td>Very frequently</td>\n",
       "      <td>Very frequently</td>\n",
       "      <td>Never</td>\n",
       "      <td>8.0</td>\n",
       "      <td>8.0</td>\n",
       "      <td>7.0</td>\n",
       "      <td>7.0</td>\n",
       "      <td>1</td>\n",
       "      <td>I understand.</td>\n",
       "    </tr>\n",
       "    <tr>\n",
       "      <th>6</th>\n",
       "      <td>18.0</td>\n",
       "      <td>YouTube Music</td>\n",
       "      <td>3.0</td>\n",
       "      <td>Yes</td>\n",
       "      <td>Yes</td>\n",
       "      <td>No</td>\n",
       "      <td>Video game music</td>\n",
       "      <td>Yes</td>\n",
       "      <td>Yes</td>\n",
       "      <td>66.0</td>\n",
       "      <td>...</td>\n",
       "      <td>Rarely</td>\n",
       "      <td>Never</td>\n",
       "      <td>Never</td>\n",
       "      <td>Sometimes</td>\n",
       "      <td>4.0</td>\n",
       "      <td>8.0</td>\n",
       "      <td>6.0</td>\n",
       "      <td>0.0</td>\n",
       "      <td>1</td>\n",
       "      <td>I understand.</td>\n",
       "    </tr>\n",
       "  </tbody>\n",
       "</table>\n",
       "<p>5 rows × 32 columns</p>\n",
       "</div>"
      ],
      "text/plain": [
       "    Age Primary streaming service  Hours per day While working  \\\n",
       "2  18.0                   Spotify            4.0            No   \n",
       "3  61.0             YouTube Music            2.5           Yes   \n",
       "4  18.0                   Spotify            4.0           Yes   \n",
       "5  18.0                   Spotify            5.0           Yes   \n",
       "6  18.0             YouTube Music            3.0           Yes   \n",
       "\n",
       "  Instrumentalist Composer         Fav genre Exploratory Foreign languages  \\\n",
       "2              No       No  Video game music          No               Yes   \n",
       "3              No      Yes              Jazz         Yes               Yes   \n",
       "4              No       No               R&B         Yes                No   \n",
       "5             Yes      Yes              Jazz         Yes               Yes   \n",
       "6             Yes       No  Video game music         Yes               Yes   \n",
       "\n",
       "     BPM  ...  Frequency [R&B]  Frequency [Rap] Frequency [Rock]  \\\n",
       "2  132.0  ...            Never           Rarely           Rarely   \n",
       "3   84.0  ...        Sometimes            Never            Never   \n",
       "4  107.0  ...  Very frequently  Very frequently            Never   \n",
       "5   86.0  ...  Very frequently  Very frequently  Very frequently   \n",
       "6   66.0  ...           Rarely            Never            Never   \n",
       "\n",
       "  Frequency [Video game music] Anxiety Depression Insomnia  OCD Music effects  \\\n",
       "2              Very frequently     7.0        7.0     10.0  2.0             0   \n",
       "3                        Never     9.0        7.0      3.0  3.0             1   \n",
       "4                       Rarely     7.0        2.0      5.0  9.0             1   \n",
       "5                        Never     8.0        8.0      7.0  7.0             1   \n",
       "6                    Sometimes     4.0        8.0      6.0  0.0             1   \n",
       "\n",
       "     Permissions  \n",
       "2  I understand.  \n",
       "3  I understand.  \n",
       "4  I understand.  \n",
       "5  I understand.  \n",
       "6  I understand.  \n",
       "\n",
       "[5 rows x 32 columns]"
      ]
     },
     "execution_count": 35,
     "metadata": {},
     "output_type": "execute_result"
    }
   ],
   "source": [
    "# conver music effects to 0 and 1\n",
    "\n",
    "df['Music effects'] = df['Music effects'].replace(['No'], 0)\n",
    "df['Music effects'] = df['Music effects'].replace('Yes', 1)\n",
    "# remove timestamp from the data\n",
    "df = df.drop(['Timestamp'], axis=1)\n",
    "df.head()"
   ]
  },
  {
   "attachments": {},
   "cell_type": "markdown",
   "metadata": {},
   "source": [
    "### Kruskal-Wallis Test"
   ]
  },
  {
   "cell_type": "code",
   "execution_count": 36,
   "metadata": {},
   "outputs": [
    {
     "name": "stdout",
     "output_type": "stream",
     "text": [
      "0.237408380475865\n",
      "18.497612640076188\n"
     ]
    }
   ],
   "source": [
    "from scipy.stats import kruskal\n",
    "\n",
    "fav_genre = df_original['Fav genre']\n",
    "mh_score = df_original[['Anxiety', 'Depression', 'Insomnia', 'OCD']].mean(axis=1)\n",
    "\n",
    "kruskal_result = kruskal(*[mh_score[fav_genre == i] for i in fav_genre.unique()])\n",
    "\n",
    "print(kruskal_result.pvalue)\n",
    "print(kruskal_result.statistic)\n"
   ]
  },
  {
   "attachments": {},
   "cell_type": "markdown",
   "metadata": {},
   "source": [
    "From the above Kruskal-Wallis test, we can see that the p-value is 0.237 and this means that there is no significant difference between the mental health scores across different favourite genres.\n",
    "\n",
    "We used this test, as the mental health score is a non-normally distributed variable and the favourite genre is a categorical variable."
   ]
  },
  {
   "cell_type": "code",
   "execution_count": 37,
   "metadata": {},
   "outputs": [
    {
     "name": "stdout",
     "output_type": "stream",
     "text": [
      "Chi-square statistic: 179.58701065090338\n",
      "p-value: 0.20698648875303402\n"
     ]
    }
   ],
   "source": [
    "# Investigate if listening habits are associated with specific mental health conditions. For instance, you could test if people who report high anxiety scores listen to Heavy Metal more frequently compared to other genres. This would involve creating contingency tables and performing Chi-square tests.\n",
    "\n",
    "# Create a contingency table\n",
    "contingency_table = pd.crosstab(df['Anxiety'], df['Fav genre'])\n",
    "\n",
    "# Perform Chi-square test\n",
    "chi2, p, dof, expected = chi2_contingency(contingency_table)\n",
    "\n",
    "# Print results\n",
    "print(\"Chi-square statistic:\", chi2)\n",
    "print(\"p-value:\", p)"
   ]
  }
 ],
 "metadata": {
  "kernelspec": {
   "display_name": "Python 3",
   "language": "python",
   "name": "python3"
  },
  "language_info": {
   "codemirror_mode": {
    "name": "ipython",
    "version": 3
   },
   "file_extension": ".py",
   "mimetype": "text/x-python",
   "name": "python",
   "nbconvert_exporter": "python",
   "pygments_lexer": "ipython3",
   "version": "3.11.9"
  },
  "orig_nbformat": 4
 },
 "nbformat": 4,
 "nbformat_minor": 2
}
